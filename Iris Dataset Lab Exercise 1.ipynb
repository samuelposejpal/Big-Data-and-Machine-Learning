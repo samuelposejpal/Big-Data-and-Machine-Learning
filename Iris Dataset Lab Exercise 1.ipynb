{
 "cells": [
  {
   "cell_type": "code",
   "execution_count": 126,
   "metadata": {},
   "outputs": [],
   "source": [
    "#Samuel Posejpal, 914829"
   ]
  },
  {
   "cell_type": "code",
   "execution_count": 127,
   "metadata": {},
   "outputs": [],
   "source": [
    "import numpy as np\n",
    "import matplotlib.pyplot as plt"
   ]
  },
  {
   "cell_type": "code",
   "execution_count": 130,
   "metadata": {},
   "outputs": [
    {
     "name": "stdout",
     "output_type": "stream",
     "text": [
      "695\n",
      "\n",
      "Hello World\n"
     ]
    },
    {
     "data": {
      "text/plain": [
       "695"
      ]
     },
     "execution_count": 130,
     "metadata": {},
     "output_type": "execute_result"
    }
   ],
   "source": [
    "#Task 1.1 Basics\n",
    "x=345\n",
    "result= (2*x+5)\n",
    "print(result)\n",
    "print(\"\")\n",
    "print(\"Hello World\")\n",
    "def f(x,w,b):\n",
    "    return w*x+b\n",
    "f(345,2,5)"
   ]
  },
  {
   "cell_type": "code",
   "execution_count": null,
   "metadata": {},
   "outputs": [],
   "source": [
    "#Task 1.2 Loop, printing a reversed list of integers, Dictionary with random integers"
   ]
  },
  {
   "cell_type": "code",
   "execution_count": 131,
   "metadata": {},
   "outputs": [
    {
     "name": "stdout",
     "output_type": "stream",
     "text": [
      "[99, 98, 97, 96, 95, 94, 93, 92, 91, 90, 89, 88, 87, 86, 85, 84, 83, 82, 81, 80, 79, 78, 77, 76, 75, 74, 73, 72, 71, 70, 69, 68, 67, 66, 65, 64, 63, 62, 61, 60, 59, 58, 57, 56, 55, 54, 53, 52, 51, 50, 49, 48, 47, 46, 45, 44, 43, 42, 41, 40, 39, 38, 37, 36, 35, 34, 33, 32, 31, 30, 29, 28, 27, 26, 25, 24, 23, 22, 21, 20, 19, 18, 17, 16, 15, 14, 13, 12, 11, 10, 9, 8, 7, 6, 5, 4, 3, 2, 1, 0]\n"
     ]
    }
   ],
   "source": [
    "B=[i for i in range (100)]\n",
    "B.reverse()\n",
    "print(B)"
   ]
  },
  {
   "cell_type": "code",
   "execution_count": 43,
   "metadata": {},
   "outputs": [],
   "source": [
    "def equals100(x):\n",
    "    if (x==100):\n",
    "        print(\"True\")\n",
    "    else:\n",
    "        print(\"False\")"
   ]
  },
  {
   "cell_type": "code",
   "execution_count": 44,
   "metadata": {},
   "outputs": [
    {
     "name": "stdout",
     "output_type": "stream",
     "text": [
      "True\n"
     ]
    }
   ],
   "source": [
    "equals100(100)"
   ]
  },
  {
   "cell_type": "code",
   "execution_count": 46,
   "metadata": {},
   "outputs": [],
   "source": [
    "myDictionary = {\n",
    "    \"data_name\":'myData',\n",
    "    'data':np.random.randint(0,5,size=(20,3)),\n",
    "    'labels':np.random.randint(0,3,size=(20,1))\n",
    "}"
   ]
  },
  {
   "cell_type": "code",
   "execution_count": 47,
   "metadata": {
    "scrolled": false
   },
   "outputs": [
    {
     "name": "stdout",
     "output_type": "stream",
     "text": [
      "{'data_name': 'myData', 'data': array([[3, 1, 1],\n",
      "       [4, 3, 4],\n",
      "       [3, 3, 3],\n",
      "       [4, 2, 0],\n",
      "       [1, 0, 0],\n",
      "       [4, 3, 4],\n",
      "       [0, 4, 2],\n",
      "       [1, 1, 1],\n",
      "       [4, 4, 0],\n",
      "       [0, 2, 1],\n",
      "       [0, 0, 1],\n",
      "       [0, 3, 4],\n",
      "       [0, 4, 1],\n",
      "       [0, 1, 4],\n",
      "       [0, 3, 1],\n",
      "       [1, 3, 2],\n",
      "       [4, 3, 4],\n",
      "       [3, 1, 3],\n",
      "       [0, 4, 1],\n",
      "       [3, 0, 3]]), 'labels': array([[1],\n",
      "       [1],\n",
      "       [0],\n",
      "       [1],\n",
      "       [2],\n",
      "       [2],\n",
      "       [0],\n",
      "       [0],\n",
      "       [2],\n",
      "       [1],\n",
      "       [1],\n",
      "       [2],\n",
      "       [2],\n",
      "       [0],\n",
      "       [2],\n",
      "       [1],\n",
      "       [0],\n",
      "       [2],\n",
      "       [1],\n",
      "       [2]])}\n"
     ]
    }
   ],
   "source": [
    "print (myDictionary)"
   ]
  },
  {
   "cell_type": "code",
   "execution_count": 30,
   "metadata": {},
   "outputs": [],
   "source": [
    "# Task 1.3 Matrix multiplication using numpy"
   ]
  },
  {
   "cell_type": "code",
   "execution_count": 48,
   "metadata": {},
   "outputs": [
    {
     "name": "stdout",
     "output_type": "stream",
     "text": [
      "[[ 73  21  30]\n",
      " [ 75   3 109]]\n",
      "\n",
      "[[ 53338  67753  82141 102230]\n",
      " [ 72411  94486  11597  71115]\n",
      " [ 77638  99154  90170   4102]]\n",
      "\n",
      "[[ 7743445  9904795  8944930  9079265]\n",
      " [12680125 16172719 16023896  8327713]]\n",
      "\n",
      "[7743445 9904795 8944930 9079265]\n"
     ]
    }
   ],
   "source": [
    "x=np.random.randint(0,10^100,size=(2,3))\n",
    "print(x)\n",
    "print(\"\")\n",
    "y=np.random.randint(0,106100,size=(3,4))\n",
    "print(y)\n",
    "print(\"\")\n",
    "matrix_mult=np.dot(x,y)\n",
    "x.dot(y)\n",
    "print(matrix_mult)\n",
    "print(\"\")\n",
    "print(matrix_mult[0,:])"
   ]
  },
  {
   "cell_type": "code",
   "execution_count": 133,
   "metadata": {},
   "outputs": [],
   "source": [
    "#Task 1.4 plotting using plt"
   ]
  },
  {
   "cell_type": "code",
   "execution_count": 11,
   "metadata": {},
   "outputs": [],
   "source": [
    "My_data=np.load(\"Iris_data.npy\")"
   ]
  },
  {
   "cell_type": "code",
   "execution_count": 13,
   "metadata": {},
   "outputs": [
    {
     "name": "stdout",
     "output_type": "stream",
     "text": [
      "(150, 4)\n"
     ]
    }
   ],
   "source": [
    "print(My_data.shape)"
   ]
  },
  {
   "cell_type": "code",
   "execution_count": 11,
   "metadata": {},
   "outputs": [
    {
     "data": {
      "image/png": "[encoded data removed]",
      "text/plain": [
       "<Figure size 432x288 with 1 Axes>"
      ]
     },
     "metadata": {
      "needs_background": "light"
     },
     "output_type": "display_data"
    }
   ],
   "source": [
    "plt.scatter(My_data[:,0],My_data[:,1]) \n",
    "plt . xlabel(\"Sepal length\")\n",
    "plt . ylabel(\"Sepal width\")\n",
    "plt . title ( \"Iris dataset\")\n",
    "plt.show()"
   ]
  },
  {
   "cell_type": "code",
   "execution_count": 10,
   "metadata": {},
   "outputs": [
    {
     "data": {
      "text/plain": [
       "<function matplotlib.pyplot.show(*args, **kw)>"
      ]
     },
     "execution_count": 10,
     "metadata": {},
     "output_type": "execute_result"
    },
    {
     "data": {
      "image/png": "[encoded data removed]",
      "text/plain": [
       "<Figure size 432x288 with 1 Axes>"
      ]
     },
     "metadata": {
      "needs_background": "light"
     },
     "output_type": "display_data"
    }
   ],
   "source": [
    "plt.scatter(Data[:,2],Data[:,3],c=Labels)\n",
    "plt.xlabel(\"Petal length\")\n",
    "plt.ylabel(\"Petal width\")\n",
    "plt.title(\"Iris dataset Petal lenght and width in cm\")\n",
    "plt.show"
   ]
  },
  {
   "cell_type": "code",
   "execution_count": null,
   "metadata": {},
   "outputs": [],
   "source": []
  }
 ],
 "metadata": {
  "kernelspec": {
   "display_name": "Python 3",
   "language": "python",
   "name": "python3"
  },
  "language_info": {
   "codemirror_mode": {
    "name": "ipython",
    "version": 3
   },
   "file_extension": ".py",
   "mimetype": "text/x-python",
   "name": "python",
   "nbconvert_exporter": "python",
   "pygments_lexer": "ipython3",
   "version": "3.5.6"
  }
 },
 "nbformat": 4,
 "nbformat_minor": 2
}
